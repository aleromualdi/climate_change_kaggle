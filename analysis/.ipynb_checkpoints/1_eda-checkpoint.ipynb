{
 "cells": [
  {
   "cell_type": "code",
   "execution_count": 1,
   "metadata": {},
   "outputs": [],
   "source": [
    "# imports\n",
    "\n",
    "import numpy as np\n",
    "import pandas as pd\n",
    "import matplotlib.pyplot as plt\n",
    "import seaborn as sns\n",
    "import time\n",
    "from scipy.stats import ttest_ind_from_stats\n",
    "import datetime"
   ]
  },
  {
   "cell_type": "markdown",
   "metadata": {},
   "source": [
    "# 1"
   ]
  },
  {
   "cell_type": "markdown",
   "metadata": {},
   "source": [
    "In order to interpret severe temperature change from decade to decade, I peform statistical analysis on AverageTemperature among consecutive decades: <br>\n",
    "I first compute decade-aggregated AverageTemperature and AverageTemperatureUncertainty, as well as number of observations (count) for within each decade. I then perform Welch's t-test on two populations means to compute the t-test statistics.<br>\n",
    "From my analysis, it turns out that Japan observed the most severe overall temperature change from 1980 going into 1990."
   ]
  },
  {
   "cell_type": "code",
   "execution_count": 2,
   "metadata": {},
   "outputs": [
    {
     "name": "stdout",
     "output_type": "stream",
     "text": [
      "Number of countries = 237\n"
     ]
    }
   ],
   "source": [
    "# loading global land temperatures by country data\n",
    "global_temp_country = pd.read_csv('../data/GlobalLandTemperaturesByCountry.csv')\n",
    " \n",
    "# removing continents labeled as countries (probably were counted as old colonies)\n",
    "global_temp_country = global_temp_country[~global_temp_country['Country'].isin(['Africa', 'South America'])]\n",
    "\n",
    "# removing duplicated countries\n",
    "global_temp_country = global_temp_country.replace(\n",
    "   ['Denmark (Europe)', 'France (Europe)', 'Netherlands (Europe)', 'United Kingdom (Europe)'],\n",
    "   ['Denmark', 'France', 'Netherlands', 'United Kingdom'])\n",
    "\n",
    "countries = global_temp_country.Country.unique()\n",
    "print('Number of countries =', len(countries))\n",
    "\n",
    "# convert date column to datetime type \n",
    "global_temp_country['dt'] = pd.to_datetime(global_temp_country.dt)"
   ]
  },
  {
   "cell_type": "code",
   "execution_count": 3,
   "metadata": {},
   "outputs": [],
   "source": [
    "# compute decade-aggregate AverageTemperature, averageTemperatureUncertainty, and sample counts\n",
    "\n",
    "global_temp_country['count'] = 0\n",
    "\n",
    "global_temp_country_decades = global_temp_country.groupby( ['Country', (global_temp_country.dt.apply(lambda x: (x.year//10)*10))]).agg( {'count' : lambda x: x.count(), 'AverageTemperature' : lambda x: x.mean(), 'AverageTemperatureUncertainty': lambda x: x.mean() })\n",
    "\n",
    "global_temp_country_decades = global_temp_country_decades.reset_index()"
   ]
  },
  {
   "cell_type": "code",
   "execution_count": 4,
   "metadata": {},
   "outputs": [
    {
     "data": {
      "text/html": [
       "<div>\n",
       "<style scoped>\n",
       "    .dataframe tbody tr th:only-of-type {\n",
       "        vertical-align: middle;\n",
       "    }\n",
       "\n",
       "    .dataframe tbody tr th {\n",
       "        vertical-align: top;\n",
       "    }\n",
       "\n",
       "    .dataframe thead th {\n",
       "        text-align: right;\n",
       "    }\n",
       "</style>\n",
       "<table border=\"1\" class=\"dataframe\">\n",
       "  <thead>\n",
       "    <tr style=\"text-align: right;\">\n",
       "      <th></th>\n",
       "      <th>Country</th>\n",
       "      <th>dt</th>\n",
       "      <th>count</th>\n",
       "      <th>AverageTemperature</th>\n",
       "      <th>AverageTemperatureUncertainty</th>\n",
       "    </tr>\n",
       "  </thead>\n",
       "  <tbody>\n",
       "    <tr>\n",
       "      <th>0</th>\n",
       "      <td>Afghanistan</td>\n",
       "      <td>1830</td>\n",
       "      <td>21</td>\n",
       "      <td>18.379571</td>\n",
       "      <td>2.756000</td>\n",
       "    </tr>\n",
       "    <tr>\n",
       "      <th>1</th>\n",
       "      <td>Afghanistan</td>\n",
       "      <td>1840</td>\n",
       "      <td>120</td>\n",
       "      <td>13.644658</td>\n",
       "      <td>2.316518</td>\n",
       "    </tr>\n",
       "    <tr>\n",
       "      <th>2</th>\n",
       "      <td>Afghanistan</td>\n",
       "      <td>1850</td>\n",
       "      <td>120</td>\n",
       "      <td>13.557317</td>\n",
       "      <td>2.210167</td>\n",
       "    </tr>\n",
       "    <tr>\n",
       "      <th>3</th>\n",
       "      <td>Afghanistan</td>\n",
       "      <td>1860</td>\n",
       "      <td>120</td>\n",
       "      <td>13.477967</td>\n",
       "      <td>2.295258</td>\n",
       "    </tr>\n",
       "    <tr>\n",
       "      <th>4</th>\n",
       "      <td>Afghanistan</td>\n",
       "      <td>1870</td>\n",
       "      <td>120</td>\n",
       "      <td>13.845850</td>\n",
       "      <td>1.860758</td>\n",
       "    </tr>\n",
       "  </tbody>\n",
       "</table>\n",
       "</div>"
      ],
      "text/plain": [
       "       Country    dt  count  AverageTemperature  AverageTemperatureUncertainty\n",
       "0  Afghanistan  1830     21           18.379571                       2.756000\n",
       "1  Afghanistan  1840    120           13.644658                       2.316518\n",
       "2  Afghanistan  1850    120           13.557317                       2.210167\n",
       "3  Afghanistan  1860    120           13.477967                       2.295258\n",
       "4  Afghanistan  1870    120           13.845850                       1.860758"
      ]
     },
     "execution_count": 4,
     "metadata": {},
     "output_type": "execute_result"
    }
   ],
   "source": [
    "global_temp_country_decades.head()"
   ]
  },
  {
   "cell_type": "markdown",
   "metadata": {},
   "source": [
    "## Welch's t-test"
   ]
  },
  {
   "cell_type": "code",
   "execution_count": 5,
   "metadata": {},
   "outputs": [],
   "source": [
    "# perform Welch's t-test on two populations means\n",
    "\n",
    "def welch_test(mean1, mean2, std1, std2, n1, n2):\n",
    "    \"\"\" perform the Welch's t-test on two populations means \"\"\"\n",
    "    return abs(ttest_ind_from_stats(\n",
    "                    mean1=mean1, std1=std1, nobs1=n1, mean2=mean2, std2=std2, nobs2=n2)[0])\n",
    "\n",
    "\n",
    "country_dataframes = []\n",
    "for country in countries:\n",
    "    \n",
    "    country_data = global_temp_country_decades[global_temp_country_decades.Country==country]\n",
    "    \n",
    "    t_test = []\n",
    "    t_test.append(0)\n",
    "    for idx in range(len(country_data)-1):\n",
    "        mean1 = country_data.iloc[idx]['AverageTemperature']\n",
    "        std1 = country_data.iloc[idx]['AverageTemperatureUncertainty']\n",
    "        n1 = country_data.iloc[idx]['count']\n",
    "        mean2 = country_data.iloc[idx+1]['AverageTemperature']\n",
    "        std2 = country_data.iloc[idx+1]['AverageTemperatureUncertainty']\n",
    "        n2 = country_data.iloc[idx+1]['count']\n",
    "\n",
    "        t_test.append(welch_test(mean1, mean2, std1, std2, n1, n2))\n",
    "\n",
    "    country_data['t-test'] = t_test\n",
    "    country_dataframes.append(country_data)\n",
    "\n",
    "stats_decades = pd.concat(country_dataframes)"
   ]
  },
  {
   "cell_type": "code",
   "execution_count": 6,
   "metadata": {},
   "outputs": [
    {
     "data": {
      "text/html": [
       "<div>\n",
       "<style scoped>\n",
       "    .dataframe tbody tr th:only-of-type {\n",
       "        vertical-align: middle;\n",
       "    }\n",
       "\n",
       "    .dataframe tbody tr th {\n",
       "        vertical-align: top;\n",
       "    }\n",
       "\n",
       "    .dataframe thead th {\n",
       "        text-align: right;\n",
       "    }\n",
       "</style>\n",
       "<table border=\"1\" class=\"dataframe\">\n",
       "  <thead>\n",
       "    <tr style=\"text-align: right;\">\n",
       "      <th></th>\n",
       "      <th>Country</th>\n",
       "      <th>dt</th>\n",
       "      <th>count</th>\n",
       "      <th>AverageTemperature</th>\n",
       "      <th>AverageTemperatureUncertainty</th>\n",
       "      <th>t-test</th>\n",
       "    </tr>\n",
       "  </thead>\n",
       "  <tbody>\n",
       "    <tr>\n",
       "      <th>2276</th>\n",
       "      <td>Japan</td>\n",
       "      <td>1990</td>\n",
       "      <td>120</td>\n",
       "      <td>12.777842</td>\n",
       "      <td>0.173508</td>\n",
       "      <td>30.284363</td>\n",
       "    </tr>\n",
       "    <tr>\n",
       "      <th>3134</th>\n",
       "      <td>Netherlands</td>\n",
       "      <td>2000</td>\n",
       "      <td>240</td>\n",
       "      <td>10.712750</td>\n",
       "      <td>0.203350</td>\n",
       "      <td>29.934139</td>\n",
       "    </tr>\n",
       "    <tr>\n",
       "      <th>3133</th>\n",
       "      <td>Netherlands</td>\n",
       "      <td>1990</td>\n",
       "      <td>240</td>\n",
       "      <td>10.159371</td>\n",
       "      <td>0.201667</td>\n",
       "      <td>29.763797</td>\n",
       "    </tr>\n",
       "    <tr>\n",
       "      <th>1188</th>\n",
       "      <td>Denmark</td>\n",
       "      <td>1820</td>\n",
       "      <td>204</td>\n",
       "      <td>-2.850510</td>\n",
       "      <td>2.791750</td>\n",
       "      <td>29.042244</td>\n",
       "    </tr>\n",
       "    <tr>\n",
       "      <th>3135</th>\n",
       "      <td>Netherlands</td>\n",
       "      <td>2010</td>\n",
       "      <td>90</td>\n",
       "      <td>9.987000</td>\n",
       "      <td>0.214943</td>\n",
       "      <td>28.425665</td>\n",
       "    </tr>\n",
       "  </tbody>\n",
       "</table>\n",
       "</div>"
      ],
      "text/plain": [
       "          Country    dt  count  AverageTemperature  \\\n",
       "2276        Japan  1990    120           12.777842   \n",
       "3134  Netherlands  2000    240           10.712750   \n",
       "3133  Netherlands  1990    240           10.159371   \n",
       "1188      Denmark  1820    204           -2.850510   \n",
       "3135  Netherlands  2010     90            9.987000   \n",
       "\n",
       "      AverageTemperatureUncertainty     t-test  \n",
       "2276                       0.173508  30.284363  \n",
       "3134                       0.203350  29.934139  \n",
       "3133                       0.201667  29.763797  \n",
       "1188                       2.791750  29.042244  \n",
       "3135                       0.214943  28.425665  "
      ]
     },
     "execution_count": 6,
     "metadata": {},
     "output_type": "execute_result"
    }
   ],
   "source": [
    "# printout data for top 5 t-test values \n",
    "\n",
    "stats_decades.sort_values(by=['t-test'], ascending=False).head()"
   ]
  },
  {
   "cell_type": "markdown",
   "metadata": {},
   "source": [
    "# 2."
   ]
  },
  {
   "cell_type": "code",
   "execution_count": 7,
   "metadata": {},
   "outputs": [
    {
     "name": "stdout",
     "output_type": "stream",
     "text": [
      "N. cities =  3446\n"
     ]
    }
   ],
   "source": [
    "# load global land temperatures by city data\n",
    "\n",
    "global_temp_city = pd.read_csv('../data/GlobalLandTemperaturesByCity.csv')\n",
    "\n",
    "# through my analyis, I figured out that there are duplicate cities. Therefore I remove respective data from the set \n",
    "global_temp_city = global_temp_city[~global_temp_city['City'].isin(['Blagoveshchensk', 'Yakeshi'])]\n",
    "\n",
    "cities = global_temp_city.City.unique()\n",
    "print('N. cities = ', len(cities))\n",
    "\n",
    "# convert date column to datetime type \n",
    "global_temp_city['dt'] = pd.to_datetime(global_temp_city.dt)"
   ]
  },
  {
   "cell_type": "code",
   "execution_count": 8,
   "metadata": {},
   "outputs": [],
   "source": [
    "def get_cities_per_average_temp_variability(data, start_date, end_date, N):\n",
    "\n",
    "    mask = (data['dt'] > start_date) & (data['dt'] <= end_date)\n",
    "\n",
    "    out = data.loc[mask].groupby('City')['AverageTemperature'].std().sort_values(ascending=False)\n",
    "\n",
    "    return pd.DataFrame(out).rename(columns={\"AverageTemperature\": \"AverageTemperature std\"}).head(N)"
   ]
  },
  {
   "cell_type": "code",
   "execution_count": 9,
   "metadata": {},
   "outputs": [
    {
     "data": {
      "text/html": [
       "<div>\n",
       "<style scoped>\n",
       "    .dataframe tbody tr th:only-of-type {\n",
       "        vertical-align: middle;\n",
       "    }\n",
       "\n",
       "    .dataframe tbody tr th {\n",
       "        vertical-align: top;\n",
       "    }\n",
       "\n",
       "    .dataframe thead th {\n",
       "        text-align: right;\n",
       "    }\n",
       "</style>\n",
       "<table border=\"1\" class=\"dataframe\">\n",
       "  <thead>\n",
       "    <tr style=\"text-align: right;\">\n",
       "      <th></th>\n",
       "      <th>AverageTemperature std</th>\n",
       "    </tr>\n",
       "    <tr>\n",
       "      <th>City</th>\n",
       "      <th></th>\n",
       "    </tr>\n",
       "  </thead>\n",
       "  <tbody>\n",
       "    <tr>\n",
       "      <th>Heihe</th>\n",
       "      <td>16.314233</td>\n",
       "    </tr>\n",
       "    <tr>\n",
       "      <th>Kyzyl</th>\n",
       "      <td>16.147749</td>\n",
       "    </tr>\n",
       "    <tr>\n",
       "      <th>Hailar</th>\n",
       "      <td>16.134836</td>\n",
       "    </tr>\n",
       "    <tr>\n",
       "      <th>Nehe</th>\n",
       "      <td>15.955351</td>\n",
       "    </tr>\n",
       "  </tbody>\n",
       "</table>\n",
       "</div>"
      ],
      "text/plain": [
       "        AverageTemperature std\n",
       "City                          \n",
       "Heihe                16.314233\n",
       "Kyzyl                16.147749\n",
       "Hailar               16.134836\n",
       "Nehe                 15.955351"
      ]
     },
     "execution_count": 9,
     "metadata": {},
     "output_type": "execute_result"
    }
   ],
   "source": [
    "start_date = datetime.datetime(1950, 1, 1)\n",
    "end_date = datetime.datetime(2020, 1, 1)\n",
    "\n",
    "res = get_cities_per_average_temp_variability( global_temp_city, start_date, end_date, 4)\n",
    "res_cities = res.reset_index().City.to_list()\n",
    "res"
   ]
  },
  {
   "cell_type": "markdown",
   "metadata": {},
   "source": [
    "# 3."
   ]
  },
  {
   "cell_type": "code",
   "execution_count": 10,
   "metadata": {},
   "outputs": [
    {
     "name": "stdout",
     "output_type": "stream",
     "text": [
      "Processing city Heihe\n",
      "Processing city Kyzyl\n",
      "Processing city Hailar\n",
      "Processing city Nehe\n"
     ]
    }
   ],
   "source": [
    "# compute year-averaged AverageTemperature and AverageTemperatureUncertainty \n",
    "# per city with high temperature varialibity\n",
    "\n",
    "global_temp_city.set_index(\"dt\", inplace=True, drop=True)\n",
    "\n",
    "frames_cities = []\n",
    "for city in res_cities:\n",
    "    print('Processing city', city)\n",
    "    data_city = global_temp_city[global_temp_city.City==city]\n",
    "    data_city = data_city.resample('Y').mean()\n",
    "    data_city['City'] = city\n",
    "    frames_cities.append(data_city)\n",
    "\n",
    "global_temp_city_year = pd.concat(frames_cities)"
   ]
  },
  {
   "cell_type": "code",
   "execution_count": 11,
   "metadata": {},
   "outputs": [],
   "source": [
    "global_temp_city_year.to_pickle('global_temp_city_year.pkl')"
   ]
  },
  {
   "cell_type": "code",
   "execution_count": 12,
   "metadata": {},
   "outputs": [],
   "source": [
    "def plot_average_temp(data, start_date, end_date):\n",
    "    \n",
    "    mask = (data.index > start_date) & (data.index <= end_date)\n",
    "    data.loc[mask]\n",
    "\n",
    "    return sns.lineplot(\n",
    "        x='dt', y='AverageTemperature', hue='City', data=data.loc[mask]) "
   ]
  },
  {
   "cell_type": "code",
   "execution_count": 13,
   "metadata": {},
   "outputs": [
    {
     "data": {
      "image/png": "[encoded data removed]",
      "text/plain": [
       "<Figure size 432x288 with 1 Axes>"
      ]
     },
     "metadata": {
      "needs_background": "light"
     },
     "output_type": "display_data"
    }
   ],
   "source": [
    "data = global_temp_city_year[global_temp_city_year['City'].isin(res_cities)]\n",
    "\n",
    "start_date = datetime.datetime(1900, 1, 1)\n",
    "end_date = datetime.datetime(2000, 1, 1)\n",
    "\n",
    "\n",
    "mask = (data.index > start_date) & (data.index <= end_date)\n",
    "data.loc[mask]\n",
    "\n",
    "for city in data.City.unique():\n",
    "    tdata = data[data.City==city]\n",
    "\n",
    "    tdata['AverageTemperature'].plot(label=city)\n",
    "    plt.fill_between(\n",
    "        tdata.index,\n",
    "        tdata.AverageTemperature - tdata.AverageTemperatureUncertainty,\n",
    "        tdata.AverageTemperature + tdata.AverageTemperatureUncertainty,\n",
    "        alpha=0.3\n",
    "        )\n",
    "\n",
    "plt.xlabel('Year')\n",
    "plt.ylabel('T (Celsius)')\n",
    "plt.title('Temperature variation')\n",
    "plt.legend()\n",
    "plt.savefig('../output/temp_variation.png')"
   ]
  },
  {
   "cell_type": "code",
   "execution_count": null,
   "metadata": {},
   "outputs": [],
   "source": []
  }
 ],
 "metadata": {
  "kernelspec": {
   "display_name": "Python 3",
   "language": "python",
   "name": "python3"
  },
  "language_info": {
   "codemirror_mode": {
    "name": "ipython",
    "version": 3
   },
   "file_extension": ".py",
   "mimetype": "text/x-python",
   "name": "python",
   "nbconvert_exporter": "python",
   "pygments_lexer": "ipython3",
   "version": "3.7.9"
  }
 },
 "nbformat": 4,
 "nbformat_minor": 2
}
